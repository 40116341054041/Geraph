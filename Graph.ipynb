{
  "nbformat": 4,
  "nbformat_minor": 0,
  "metadata": {
    "colab": {
      "provenance": [],
      "authorship_tag": "ABX9TyPmhRO5MLXJQGXYK/EQU583",
      "include_colab_link": true
    },
    "kernelspec": {
      "name": "python3",
      "display_name": "Python 3"
    },
    "language_info": {
      "name": "python"
    }
  },
  "cells": [
    {
      "cell_type": "markdown",
      "metadata": {
        "id": "view-in-github",
        "colab_type": "text"
      },
      "source": [
        "<a href=\"https://colab.research.google.com/github/40116341054041/Geraph/blob/main/Graph.ipynb\" target=\"_parent\"><img src=\"https://colab.research.google.com/assets/colab-badge.svg\" alt=\"Open In Colab\"/></a>"
      ]
    },
    {
      "cell_type": "code",
      "execution_count": 1,
      "metadata": {
        "id": "HqIdRc1IK3eo"
      },
      "outputs": [],
      "source": [
        "class Graph:\n",
        "  def __init__(self , n):\n",
        "    self.size = n\n",
        "    self.m = []\n",
        "    for _ in range(n):\n",
        "      self.m.append([0 for i in range(n)])\n",
        "\n",
        "  def add_edge(self , v1 , v2):\n",
        "    self.m[v1][v2] = 1\n",
        "    self.m[v2][v1] = 1\n",
        "\n",
        "  def display(self):\n",
        "    for i in range (self.size):\n",
        "      for j in range (self.size):\n",
        "        print(self.m[i][j] , end=\" \")\n",
        "    print( )"
      ]
    },
    {
      "cell_type": "code",
      "source": [
        "g = Graph(4)\n",
        "g.add_edge(0,1)\n",
        "g.add_edge(0,2)\n",
        "g.add_edge(1,2)\n",
        "g.add_edge(2,3)\n",
        "g.display()"
      ],
      "metadata": {
        "colab": {
          "base_uri": "https://localhost:8080/"
        },
        "id": "OSfqSRsuL1VQ",
        "outputId": "18450743-fb1e-4cc8-c5a6-dcb6ab8184ad"
      },
      "execution_count": 4,
      "outputs": [
        {
          "output_type": "stream",
          "name": "stdout",
          "text": [
            "0 1 1 0 1 0 1 0 1 1 0 1 0 0 1 0 \n"
          ]
        }
      ]
    }
  ]
}